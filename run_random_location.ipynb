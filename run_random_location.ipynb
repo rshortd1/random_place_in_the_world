import webbrowser
import random
import geopandas as gpd
from shapely.geometry import Point

# Path to the downloaded land shapefile
land = gpd.read_file("C:/Users/User/Desktop/Data/ne_10m_land/ne_10m_land.shp")

def random_land_location():
    while True:
        # Generate random coordinates
        latitude = random.uniform(-90, 90)
        longitude = random.uniform(-180, 180)
        point = Point(longitude, latitude)
        
        # Check if the point is within any land polygon
        if land.contains(point).any():
            url = f"https://www.google.com/maps/@{latitude},{longitude},12z"
            webbrowser.open(url)
            break

if __name__ == "__main__":
    random_land_location()
